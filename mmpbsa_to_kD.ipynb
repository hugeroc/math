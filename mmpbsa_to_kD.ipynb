{
 "cells": [
  {
   "cell_type": "code",
   "execution_count": 30,
   "metadata": {},
   "outputs": [
    {
     "name": "stdout",
     "output_type": "stream",
     "text": [
      "1.1823077490091611\n",
      "-3.5527559999999996\n",
      "-5.329133999999999\n",
      "-7.105511999999999\n"
     ]
    }
   ],
   "source": [
    "import math\n",
    "def dg2kd(mmpbsa):\n",
    "    return 6.4*math.exp(mmpbsa*1000/(1.987*298))\n",
    "def kd2dg(kd):\n",
    "    return 1.987*298*math.log(kd,10)/1000\n",
    "\n",
    "'''\n",
    "The math.log() method returns the natural logarithm of a number, or the logarithm of number to base.\n",
    "Syntax: math.log(x, base)\n",
    "'''\n",
    "print(dg2kd(-1))\n",
    "\n",
    "print(kd2dg(1e-6))\n",
    "print(kd2dg(1e-9))\n",
    "print(kd2dg(1e-12))\n",
    "print(kd2dg(3.2e-9))"
   ]
  },
  {
   "cell_type": "code",
   "execution_count": 23,
   "metadata": {},
   "outputs": [
    {
     "name": "stdout",
     "output_type": "stream",
     "text": [
      "-11.582052670560733\n"
     ]
    }
   ],
   "source": []
  },
  {
   "cell_type": "code",
   "execution_count": 28,
   "metadata": {},
   "outputs": [
    {
     "name": "stdout",
     "output_type": "stream",
     "text": [
      "2.0\n"
     ]
    }
   ],
   "source": [
    "print(math.log(100,10))"
   ]
  },
  {
   "cell_type": "code",
   "execution_count": null,
   "metadata": {},
   "outputs": [],
   "source": []
  }
 ],
 "metadata": {
  "kernelspec": {
   "display_name": "base",
   "language": "python",
   "name": "python3"
  },
  "language_info": {
   "codemirror_mode": {
    "name": "ipython",
    "version": 3
   },
   "file_extension": ".py",
   "mimetype": "text/x-python",
   "name": "python",
   "nbconvert_exporter": "python",
   "pygments_lexer": "ipython3",
   "version": "3.9.12"
  }
 },
 "nbformat": 4,
 "nbformat_minor": 2
}
