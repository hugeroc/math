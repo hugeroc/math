{
 "cells": [
  {
   "cell_type": "code",
   "execution_count": 33,
   "metadata": {},
   "outputs": [
    {
     "name": "stdout",
     "output_type": "stream",
     "text": [
      "1.1823077490091611\n",
      "-71.05512\n",
      "-106.58267999999998\n",
      "-142.11024\n",
      "-100.60043127874695\n"
     ]
    }
   ],
   "source": [
    "import math\n",
    "def dg2kd(mmpbsa):\n",
    "    return 6.4*math.exp(mmpbsa*1000/(1.987*298))\n",
    "def kd2dg(kd):\n",
    "    return 20*1.987*298*math.log(kd,10)/1000 \n",
    "    # return 1.987*298*math.log(kd,10)/1000\n",
    "\n",
    "'''\n",
    "The math.log() method returns the natural logarithm of a number, or the logarithm of number to base.\n",
    "Syntax: math.log(x, base)\n",
    "'''\n",
    "print(dg2kd(-1))\n",
    "\n",
    "print(kd2dg(1e-6))\n",
    "print(kd2dg(1e-9))\n",
    "print(kd2dg(1e-12))\n",
    "print(kd2dg(3.2e-9))"
   ]
  },
  {
   "cell_type": "code",
   "execution_count": 28,
   "metadata": {},
   "outputs": [
    {
     "name": "stdout",
     "output_type": "stream",
     "text": [
      "2.0\n"
     ]
    }
   ],
   "source": [
    "print(math.log(100,10))"
   ]
  },
  {
   "cell_type": "code",
   "execution_count": 2,
   "metadata": {},
   "outputs": [
    {
     "name": "stdout",
     "output_type": "stream",
     "text": [
      "pKi_9822 6.20797\n",
      "ic50_9822 6.194838660282747e-07\n",
      "dG_9822 -8.520879429051506\n",
      "-6.2079699999999995\n"
     ]
    }
   ],
   "source": [
    "import math\n",
    "\n",
    "pKi_9822 = 6.20797\n",
    "\n",
    "def pic50_ic50(pic50):\n",
    "    #convert the pic50 to ic50, return the ic50 in M unit\n",
    "    return (10.0)**(-pic50)\n",
    "\n",
    "def ic50_to_dG(ic50):\n",
    "    #convert the ic50 values to binding affinity\n",
    "    return math.log(ic50) * 0.5961\n",
    "\n",
    "ic50_9822 = pic50_ic50(pKi_9822)\n",
    "dG_9822 = ic50_to_dG(ic50_9822)\n",
    "\n",
    "print (\"pKi_9822\", pKi_9822)\n",
    "print (\"ic50_9822\", ic50_9822)\n",
    "print (\"dG_9822\", dG_9822)\n",
    "\n",
    "print(math.log(ic50_9822,10))\n",
    "    "
   ]
  }
 ],
 "metadata": {
  "kernelspec": {
   "display_name": "base",
   "language": "python",
   "name": "python3"
  },
  "language_info": {
   "codemirror_mode": {
    "name": "ipython",
    "version": 3
   },
   "file_extension": ".py",
   "mimetype": "text/x-python",
   "name": "python",
   "nbconvert_exporter": "python",
   "pygments_lexer": "ipython3",
   "version": "3.9.12"
  }
 },
 "nbformat": 4,
 "nbformat_minor": 2
}
